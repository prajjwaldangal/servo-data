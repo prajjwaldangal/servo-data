{
 "cells": [
  {
   "cell_type": "code",
   "execution_count": 9,
   "metadata": {},
   "outputs": [
    {
     "data": {
      "text/plain": [
       "[servoData(motor='E', screw='E', pgain='5', vgain='4', cls=' 0.28125095\\n'),\n",
       " servoData(motor='B', screw='D', pgain='6', vgain='5', cls=' 0.5062525\\n'),\n",
       " servoData(motor='D', screw='D', pgain='4', vgain='3', cls=' 0.35625148\\n'),\n",
       " servoData(motor='B', screw='A', pgain='3', vgain='2', cls=' 5.500033\\n'),\n",
       " servoData(motor='D', screw='B', pgain='6', vgain='5', cls=' 0.35625148\\n'),\n",
       " servoData(motor='E', screw='C', pgain='4', vgain='3', cls=' 0.8062546\\n'),\n",
       " servoData(motor='C', screw='A', pgain='3', vgain='2', cls=' 5.100014\\n'),\n",
       " servoData(motor='A', screw='A', pgain='3', vgain='2', cls=' 5.7000422\\n'),\n",
       " servoData(motor='C', screw='A', pgain='6', vgain='5', cls=' 0.76875436\\n'),\n",
       " servoData(motor='D', screw='A', pgain='4', vgain='1', cls=' 1.0312537\\n')]"
      ]
     },
     "execution_count": 9,
     "metadata": {},
     "output_type": "execute_result"
    }
   ],
   "source": [
    "from collections import namedtuple\n",
    "servoData = namedtuple('servoData', 'motor, screw, pgain, vgain, cls')\n",
    "\n",
    "data = [servoData(*line.split(\",\")) for line in open('servo.data')]\n",
    "\n",
    "data[:10]"
   ]
  },
  {
   "cell_type": "code",
   "execution_count": 14,
   "metadata": {},
   "outputs": [
    {
     "data": {
      "text/plain": [
       "[servoData(motor='E', screw='E', pgain=5, vgain=4, cls=0.28125095),\n",
       " servoData(motor='B', screw='D', pgain=5, vgain=4, cls=0.28125095),\n",
       " servoData(motor='D', screw='D', pgain=5, vgain=4, cls=0.28125095),\n",
       " servoData(motor='B', screw='A', pgain=5, vgain=4, cls=0.28125095),\n",
       " servoData(motor='D', screw='B', pgain=5, vgain=4, cls=0.28125095),\n",
       " servoData(motor='E', screw='C', pgain=5, vgain=4, cls=0.28125095),\n",
       " servoData(motor='C', screw='A', pgain=5, vgain=4, cls=0.28125095),\n",
       " servoData(motor='A', screw='A', pgain=5, vgain=4, cls=0.28125095),\n",
       " servoData(motor='C', screw='A', pgain=5, vgain=4, cls=0.28125095),\n",
       " servoData(motor='D', screw='A', pgain=5, vgain=4, cls=0.28125095)]"
      ]
     },
     "execution_count": 14,
     "metadata": {},
     "output_type": "execute_result"
    }
   ],
   "source": [
    "for i, item in enumerate(data):\n",
    "    \n",
    "    data[i] = servoData(item.motor, item.screw, int(d.pgain), int(d.vgain), float(d.cls.strip()))\n",
    "data[:10]"
   ]
  },
  {
   "cell_type": "markdown",
   "metadata": {},
   "source": [
    "Multiplot"
   ]
  },
  {
   "cell_type": "code",
   "execution_count": null,
   "metadata": {},
   "outputs": [],
   "source": []
  }
 ],
 "metadata": {
  "kernelspec": {
   "display_name": "Python 3",
   "language": "python",
   "name": "python3"
  },
  "language_info": {
   "codemirror_mode": {
    "name": "ipython",
    "version": 3
   },
   "file_extension": ".py",
   "mimetype": "text/x-python",
   "name": "python",
   "nbconvert_exporter": "python",
   "pygments_lexer": "ipython3",
   "version": "3.8.5"
  }
 },
 "nbformat": 4,
 "nbformat_minor": 4
}
