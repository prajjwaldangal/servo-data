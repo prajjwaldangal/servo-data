{
 "cells": [
  {
   "cell_type": "code",
   "execution_count": 2,
   "metadata": {},
   "outputs": [
    {
     "data": {
      "text/plain": [
       "[servoData(motor='E', screw='E', pgain='5', vgain='4', cls=' 0.28125095\\n'),\n",
       " servoData(motor='B', screw='D', pgain='6', vgain='5', cls=' 0.5062525\\n'),\n",
       " servoData(motor='D', screw='D', pgain='4', vgain='3', cls=' 0.35625148\\n'),\n",
       " servoData(motor='B', screw='A', pgain='3', vgain='2', cls=' 5.500033\\n'),\n",
       " servoData(motor='D', screw='B', pgain='6', vgain='5', cls=' 0.35625148\\n'),\n",
       " servoData(motor='E', screw='C', pgain='4', vgain='3', cls=' 0.8062546\\n'),\n",
       " servoData(motor='C', screw='A', pgain='3', vgain='2', cls=' 5.100014\\n'),\n",
       " servoData(motor='A', screw='A', pgain='3', vgain='2', cls=' 5.7000422\\n'),\n",
       " servoData(motor='C', screw='A', pgain='6', vgain='5', cls=' 0.76875436\\n'),\n",
       " servoData(motor='D', screw='A', pgain='4', vgain='1', cls=' 1.0312537\\n')]"
      ]
     },
     "execution_count": 2,
     "metadata": {},
     "output_type": "execute_result"
    }
   ],
   "source": [
    "from collections import namedtuple\n",
    "servoData = namedtuple('servoData', 'motor, screw, pgain, vgain, cls')\n",
    "\n",
    "data = [servoData(*line.split(\",\")) for line in open('servo.data')]\n",
    "\n",
    "data[:10]"
   ]
  },
  {
   "cell_type": "code",
   "execution_count": 3,
   "metadata": {},
   "outputs": [
    {
     "data": {
      "text/plain": [
       "[servoData(motor='E', screw='e', pgain=5, vgain=4, cls=0.281),\n",
       " servoData(motor='B', screw='d', pgain=6, vgain=5, cls=0.506),\n",
       " servoData(motor='D', screw='d', pgain=4, vgain=3, cls=0.356),\n",
       " servoData(motor='B', screw='a', pgain=3, vgain=2, cls=5.5),\n",
       " servoData(motor='D', screw='b', pgain=6, vgain=5, cls=0.356),\n",
       " servoData(motor='E', screw='c', pgain=4, vgain=3, cls=0.806),\n",
       " servoData(motor='C', screw='a', pgain=3, vgain=2, cls=5.1),\n",
       " servoData(motor='A', screw='a', pgain=3, vgain=2, cls=5.7),\n",
       " servoData(motor='C', screw='a', pgain=6, vgain=5, cls=0.769),\n",
       " servoData(motor='D', screw='a', pgain=4, vgain=1, cls=1.031)]"
      ]
     },
     "execution_count": 3,
     "metadata": {},
     "output_type": "execute_result"
    }
   ],
   "source": [
    "for i, item in enumerate(data):\n",
    "    clsNew = item.cls.strip()\n",
    "    clsNew = float(clsNew)\n",
    "    clsNew = float(\"{0:.3f}\".format(clsNew))\n",
    "    data[i] = servoData(item.motor, item.screw.lower(), int(item.pgain), int(item.vgain), clsNew)\n",
    "data[:10]"
   ]
  },
  {
   "cell_type": "markdown",
   "metadata": {},
   "source": [
    "# Multiplots"
   ]
  },
  {
   "cell_type": "markdown",
   "metadata": {},
   "source": [
    "<h3> \n",
    "i. Produce 5 * 4 = 20 plots <br>\n",
    "ii. Based on the resulting pattern, make one or more relationship more sophisticated\n",
    "</h3>"
   ]
  },
  {
   "cell_type": "markdown",
   "metadata": {},
   "source": [
    " <h3> 1. Plotting types of motor with types of screws </h3>"
   ]
  },
  {
   "cell_type": "code",
   "execution_count": 4,
   "metadata": {},
   "outputs": [],
   "source": [
    "ls = ['A', 'B', 'C', 'D', 'E']\n",
    "from collections import defaultdict, Counter\n",
    "# motor with servo\n",
    "motorData = defaultdict(list)\n",
    "for item in data:\n",
    "    \n",
    "    motorData[item.motor].append(item.screw)\n",
    "motorServoCount = defaultdict(Counter)\n",
    "for motorType, servoTypes in motorData.items():\n",
    "    motorServoCount[motorType]= Counter(servoTypes)\n",
    "    motorServoCount[motorType] = sorted(motorServoCount[motorType].items(), key=lambda pair: pair[0], reverse=True)\n"
   ]
  },
  {
   "cell_type": "code",
   "execution_count": 5,
   "metadata": {},
   "outputs": [
    {
     "data": {
      "text/plain": [
       "defaultdict(collections.Counter,\n",
       "            {'E': [('e', 6), ('d', 6), ('c', 7), ('b', 7), ('a', 7)],\n",
       "             'B': [('e', 7), ('d', 7), ('c', 7), ('b', 7), ('a', 8)],\n",
       "             'D': [('e', 2), ('d', 3), ('c', 3), ('b', 7), ('a', 7)],\n",
       "             'C': [('e', 7), ('d', 7), ('c', 7), ('b', 7), ('a', 12)],\n",
       "             'A': [('e', 7), ('d', 7), ('c', 7), ('b', 7), ('a', 8)]})"
      ]
     },
     "execution_count": 5,
     "metadata": {},
     "output_type": "execute_result"
    }
   ],
   "source": [
    "motorServoCount"
   ]
  },
  {
   "cell_type": "markdown",
   "metadata": {},
   "source": [
    "# <h3> To-do: adjust level of precision for values of attribute: class (cls). </h3>"
   ]
  },
  {
   "cell_type": "code",
   "execution_count": 23,
   "metadata": {},
   "outputs": [
    {
     "data": {
      "text/plain": [
       "<Figure size 1440x1440 with 0 Axes>"
      ]
     },
     "metadata": {},
     "output_type": "display_data"
    }
   ],
   "source": [
    "import matplotlib.pyplot as plt\n",
    "\n"
   ]
  },
  {
   "cell_type": "code",
   "execution_count": 40,
   "metadata": {
    "scrolled": true
   },
   "outputs": [
    {
     "data": {
      "image/png": "[encoded data removed]",
      "text/plain": [
       "<Figure size 432x576 with 1 Axes>"
      ]
     },
     "metadata": {
      "needs_background": "light"
     },
     "output_type": "display_data"
    }
   ],
   "source": [
    "import numpy as np\n",
    "figure = plt.figure(figsize=[6.0,8.0])\n",
    "index = [ key for key, _ in motorServoCount.items() ]\n",
    "# index = sorted(index)\n",
    "y_offset = np.zeros(5)\n",
    "plots = []\n",
    "for key, counts in motorServoCount.items():\n",
    "    \n",
    "    plots.append(plt.bar(index, [pair[1] for pair in counts], bottom=y_offset))\n",
    "    y_offset = y_offset + [pair[1] for pair in counts]\n",
    "plt.legend((plots[4], plots[3], plots[2], plots[1], plots[0]), ('a', 'b', 'c', 'd', 'e'))\n",
    "plt.xlabel('motor types')\n",
    "plt.ylabel('number of occurences')\n",
    "plt.title('A graph showing the number of occurences of different servo types versus different motor types.')\n",
    "plt.show()"
   ]
  },
  {
   "cell_type": "markdown",
   "metadata": {},
   "source": [
    "<h3>\n",
    "As we can see motor type A has more number of type B servos. All motor types except type C have less number of \n",
    "type C servos.\n",
    "</h3>"
   ]
  },
  {
   "cell_type": "code",
   "execution_count": null,
   "metadata": {},
   "outputs": [],
   "source": []
  }
 ],
 "metadata": {
  "kernelspec": {
   "display_name": "linkedin_course",
   "language": "python",
   "name": "linkedin_course"
  },
  "language_info": {
   "codemirror_mode": {
    "name": "ipython",
    "version": 3
   },
   "file_extension": ".py",
   "mimetype": "text/x-python",
   "name": "python",
   "nbconvert_exporter": "python",
   "pygments_lexer": "ipython3",
   "version": "3.7.7"
  }
 },
 "nbformat": 4,
 "nbformat_minor": 4
}
