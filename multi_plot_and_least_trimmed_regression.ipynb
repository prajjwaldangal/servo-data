{
 "cells": [
  {
   "cell_type": "code",
   "execution_count": 49,
   "metadata": {},
   "outputs": [
    {
     "data": {
      "text/plain": [
       "[servoData(motor='E', screw='E', pgain='5', vgain='4', cls=' 0.28125095\\n'),\n",
       " servoData(motor='B', screw='D', pgain='6', vgain='5', cls=' 0.5062525\\n'),\n",
       " servoData(motor='D', screw='D', pgain='4', vgain='3', cls=' 0.35625148\\n'),\n",
       " servoData(motor='B', screw='A', pgain='3', vgain='2', cls=' 5.500033\\n'),\n",
       " servoData(motor='D', screw='B', pgain='6', vgain='5', cls=' 0.35625148\\n'),\n",
       " servoData(motor='E', screw='C', pgain='4', vgain='3', cls=' 0.8062546\\n'),\n",
       " servoData(motor='C', screw='A', pgain='3', vgain='2', cls=' 5.100014\\n'),\n",
       " servoData(motor='A', screw='A', pgain='3', vgain='2', cls=' 5.7000422\\n'),\n",
       " servoData(motor='C', screw='A', pgain='6', vgain='5', cls=' 0.76875436\\n'),\n",
       " servoData(motor='D', screw='A', pgain='4', vgain='1', cls=' 1.0312537\\n')]"
      ]
     },
     "execution_count": 49,
     "metadata": {},
     "output_type": "execute_result"
    }
   ],
   "source": [
    "from collections import namedtuple\n",
    "servoData = namedtuple('servoData', 'motor, screw, pgain, vgain, cls')\n",
    "\n",
    "data = [servoData(*line.split(\",\")) for line in open('servo.data')]\n",
    "\n",
    "data[:10]"
   ]
  },
  {
   "cell_type": "code",
   "execution_count": 50,
   "metadata": {},
   "outputs": [
    {
     "data": {
      "text/plain": [
       "[servoData(motor='E', screw='E', pgain=5, vgain=4, cls=0.281),\n",
       " servoData(motor='B', screw='D', pgain=6, vgain=5, cls=0.506),\n",
       " servoData(motor='D', screw='D', pgain=4, vgain=3, cls=0.356),\n",
       " servoData(motor='B', screw='A', pgain=3, vgain=2, cls=5.5),\n",
       " servoData(motor='D', screw='B', pgain=6, vgain=5, cls=0.356),\n",
       " servoData(motor='E', screw='C', pgain=4, vgain=3, cls=0.806),\n",
       " servoData(motor='C', screw='A', pgain=3, vgain=2, cls=5.1),\n",
       " servoData(motor='A', screw='A', pgain=3, vgain=2, cls=5.7),\n",
       " servoData(motor='C', screw='A', pgain=6, vgain=5, cls=0.769),\n",
       " servoData(motor='D', screw='A', pgain=4, vgain=1, cls=1.031)]"
      ]
     },
     "execution_count": 50,
     "metadata": {},
     "output_type": "execute_result"
    }
   ],
   "source": [
    "for i, item in enumerate(data):\n",
    "    clsNew = item.cls.strip()\n",
    "    clsNew = float(clsNew)\n",
    "    clsNew = float(\"{0:.3f}\".format(clsNew))\n",
    "    data[i] = servoData(item.motor, item.screw, int(item.pgain), int(item.vgain), clsNew)\n",
    "data[:10]"
   ]
  },
  {
   "cell_type": "code",
   "execution_count": 53,
   "metadata": {},
   "outputs": [],
   "source": [
    "ls = ['A', 'B', 'C', 'D', 'E']\n",
    "from collections import defaultdict, Counter\n",
    "# motor with servo\n",
    "motorData = defaultdict(list)\n",
    "for item in data:\n",
    "    \n",
    "    motorData[item.motor].append(item.screw)\n",
    "# Counter([item.screw for item in data])"
   ]
  },
  {
   "cell_type": "code",
   "execution_count": 54,
   "metadata": {},
   "outputs": [
    {
     "data": {
      "text/plain": [
       "defaultdict(list,\n",
       "            {'E': ['E',\n",
       "              'C',\n",
       "              'C',\n",
       "              'C',\n",
       "              'B',\n",
       "              'D',\n",
       "              'C',\n",
       "              'E',\n",
       "              'C',\n",
       "              'D',\n",
       "              'A',\n",
       "              'B',\n",
       "              'A',\n",
       "              'B',\n",
       "              'C',\n",
       "              'D',\n",
       "              'A',\n",
       "              'A',\n",
       "              'E',\n",
       "              'D',\n",
       "              'B',\n",
       "              'B',\n",
       "              'A',\n",
       "              'D',\n",
       "              'A',\n",
       "              'D',\n",
       "              'E',\n",
       "              'E',\n",
       "              'C',\n",
       "              'A',\n",
       "              'E',\n",
       "              'B',\n",
       "              'B'],\n",
       "             'B': ['D',\n",
       "              'A',\n",
       "              'E',\n",
       "              'C',\n",
       "              'C',\n",
       "              'B',\n",
       "              'C',\n",
       "              'B',\n",
       "              'E',\n",
       "              'C',\n",
       "              'D',\n",
       "              'A',\n",
       "              'A',\n",
       "              'E',\n",
       "              'B',\n",
       "              'D',\n",
       "              'C',\n",
       "              'D',\n",
       "              'A',\n",
       "              'B',\n",
       "              'E',\n",
       "              'A',\n",
       "              'D',\n",
       "              'D',\n",
       "              'B',\n",
       "              'C',\n",
       "              'D',\n",
       "              'A',\n",
       "              'B',\n",
       "              'B',\n",
       "              'E',\n",
       "              'E',\n",
       "              'A',\n",
       "              'A',\n",
       "              'C',\n",
       "              'E'],\n",
       "             'D': ['D',\n",
       "              'B',\n",
       "              'A',\n",
       "              'C',\n",
       "              'E',\n",
       "              'B',\n",
       "              'D',\n",
       "              'A',\n",
       "              'A',\n",
       "              'B',\n",
       "              'C',\n",
       "              'A',\n",
       "              'B',\n",
       "              'B',\n",
       "              'A',\n",
       "              'A',\n",
       "              'C',\n",
       "              'B',\n",
       "              'D',\n",
       "              'E',\n",
       "              'B',\n",
       "              'A'],\n",
       "             'C': ['A',\n",
       "              'A',\n",
       "              'C',\n",
       "              'E',\n",
       "              'D',\n",
       "              'E',\n",
       "              'A',\n",
       "              'C',\n",
       "              'B',\n",
       "              'D',\n",
       "              'B',\n",
       "              'C',\n",
       "              'E',\n",
       "              'B',\n",
       "              'D',\n",
       "              'A',\n",
       "              'B',\n",
       "              'A',\n",
       "              'B',\n",
       "              'E',\n",
       "              'A',\n",
       "              'C',\n",
       "              'E',\n",
       "              'A',\n",
       "              'B',\n",
       "              'C',\n",
       "              'D',\n",
       "              'A',\n",
       "              'D',\n",
       "              'D',\n",
       "              'A',\n",
       "              'A',\n",
       "              'E',\n",
       "              'A',\n",
       "              'A',\n",
       "              'C',\n",
       "              'C',\n",
       "              'B',\n",
       "              'E',\n",
       "              'D'],\n",
       "             'A': ['A',\n",
       "              'D',\n",
       "              'C',\n",
       "              'B',\n",
       "              'A',\n",
       "              'E',\n",
       "              'B',\n",
       "              'E',\n",
       "              'A',\n",
       "              'E',\n",
       "              'C',\n",
       "              'E',\n",
       "              'D',\n",
       "              'C',\n",
       "              'A',\n",
       "              'A',\n",
       "              'E',\n",
       "              'D',\n",
       "              'E',\n",
       "              'D',\n",
       "              'A',\n",
       "              'C',\n",
       "              'B',\n",
       "              'D',\n",
       "              'B',\n",
       "              'C',\n",
       "              'E',\n",
       "              'B',\n",
       "              'C',\n",
       "              'C',\n",
       "              'D',\n",
       "              'D',\n",
       "              'B',\n",
       "              'A',\n",
       "              'B',\n",
       "              'A']})"
      ]
     },
     "execution_count": 54,
     "metadata": {},
     "output_type": "execute_result"
    }
   ],
   "source": [
    "motorData\n"
   ]
  },
  {
   "cell_type": "code",
   "execution_count": 55,
   "metadata": {},
   "outputs": [],
   "source": [
    "motorServoCount = defaultdict(Counter)\n",
    "for motorType, servoTypes in motorData.items():\n",
    "    motorServoCount[motorType]= Counter(servoTypes)"
   ]
  },
  {
   "cell_type": "code",
   "execution_count": 56,
   "metadata": {},
   "outputs": [
    {
     "data": {
      "text/plain": [
       "defaultdict(collections.Counter,\n",
       "            {'E': Counter({'E': 6, 'C': 7, 'B': 7, 'D': 6, 'A': 7}),\n",
       "             'B': Counter({'D': 7, 'A': 8, 'E': 7, 'C': 7, 'B': 7}),\n",
       "             'D': Counter({'D': 3, 'B': 7, 'A': 7, 'C': 3, 'E': 2}),\n",
       "             'C': Counter({'A': 12, 'C': 7, 'E': 7, 'D': 7, 'B': 7}),\n",
       "             'A': Counter({'A': 8, 'D': 7, 'C': 7, 'B': 7, 'E': 7})})"
      ]
     },
     "execution_count": 56,
     "metadata": {},
     "output_type": "execute_result"
    }
   ],
   "source": [
    "motorServoCount"
   ]
  },
  {
   "cell_type": "markdown",
   "metadata": {},
   "source": [
    "# <h3> To-do: adjust level of precision for values of attribute: class (cls). </h3>"
   ]
  },
  {
   "cell_type": "markdown",
   "metadata": {},
   "source": [
    "# Multiplot"
   ]
  },
  {
   "cell_type": "markdown",
   "metadata": {},
   "source": [
    "<h3> \n",
    "1. Produce 5 * 4 = 20 plots <br>\n",
    "2. Based on the resulting pattern, make one or more relationship more sophisticated\n",
    "</h3>"
   ]
  },
  {
   "cell_type": "code",
   "execution_count": 57,
   "metadata": {},
   "outputs": [],
   "source": [
    "import matplotlib\n",
    "import matplotlib.pyplot as plt"
   ]
  },
  {
   "cell_type": "code",
   "execution_count": 58,
   "metadata": {},
   "outputs": [
    {
     "data": {
      "text/plain": [
       "<Figure size 360x360 with 0 Axes>"
      ]
     },
     "metadata": {},
     "output_type": "display_data"
    }
   ],
   "source": [
    "figure = plt.figure(figsize=[5.0,5.0])"
   ]
  },
  {
   "cell_type": "markdown",
   "metadata": {},
   "source": [
    " <h3> Plotting types of motor with types of screws </h3>"
   ]
  },
  {
   "cell_type": "code",
   "execution_count": 59,
   "metadata": {},
   "outputs": [],
   "source": [
    "index = [ key for key, _ in motorServoCount.items() ]\n",
    "\n",
    "# plt.plot(x, y)\n"
   ]
  },
  {
   "cell_type": "code",
   "execution_count": 37,
   "metadata": {},
   "outputs": [
    {
     "data": {
      "image/png": "[encoded data removed]",
      "text/plain": [
       "<Figure size 432x288 with 1 Axes>"
      ]
     },
     "metadata": {
      "needs_background": "light"
     },
     "output_type": "display_data"
    }
   ],
   "source": [
    "import numpy as np\n",
    "data = [[ 66386, 174296,  75131, 577908,  32015],\n",
    "        [ 58230, 381139,  78045,  99308, 160454],\n",
    "        [ 89135,  80552, 152558, 497981, 603535],\n",
    "        [ 78415,  81858, 150656, 193263,  69638],\n",
    "        [139361, 331509, 343164, 781380,  52269]]\n",
    "columns = ('Freeze', 'Wind', 'Flood', 'Quake', 'Hail')\n",
    "index = np.arange(len(columns)) + 0.3\n",
    "for row in range(1):\n",
    "    plt.bar(index, data[row])#, bar_width, bottom=y_offset, color=colors[row])\n",
    "    # y_offset = y_offset + data[row]\n",
    "# plt.bar([0, 1, 2, 3, 4], [data[0], data[1], data[2], data[3], data[4]])"
   ]
  },
  {
   "cell_type": "code",
   "execution_count": 39,
   "metadata": {},
   "outputs": [
    {
     "data": {
      "image/png": "[encoded data removed]",
      "text/plain": [
       "<Figure size 432x288 with 1 Axes>"
      ]
     },
     "metadata": {
      "needs_background": "light"
     },
     "output_type": "display_data"
    }
   ],
   "source": [
    "import numpy as np\n",
    "data = [[ 66386, 174296,  75131, 577908,  32015],\n",
    "        [ 58230, 381139,  78045,  99308, 160454],\n",
    "        [ 89135,  80552, 152558, 497981, 603535],\n",
    "        [ 78415,  81858, 150656, 193263,  69638],\n",
    "        [139361, 331509, 343164, 781380,  52269]]\n",
    "columns = ('Freeze', 'Wind', 'Flood', 'Quake', 'Hail')\n",
    "index = np.arange(len(columns)) + 0.3\n",
    "for row in range(2):\n",
    "    plt.bar(index, data[row])#, bar_width, bottom=y_offset, color=colors[row])\n",
    "    # y_offset = y_offset + data[row]\n",
    "# plt.bar([0, 1, 2, 3, 4], [data[0], data[1], data[2], data[3], data[4]])"
   ]
  },
  {
   "cell_type": "code",
   "execution_count": 40,
   "metadata": {},
   "outputs": [
    {
     "data": {
      "image/png": "[encoded data removed]",
      "text/plain": [
       "<Figure size 432x288 with 1 Axes>"
      ]
     },
     "metadata": {
      "needs_background": "light"
     },
     "output_type": "display_data"
    }
   ],
   "source": [
    "import numpy as np\n",
    "data = [[ 66386, 174296,  75131, 577908,  32015],\n",
    "        [ 58230, 381139,  78045,  99308, 160454],\n",
    "        [ 89135,  80552, 152558, 497981, 603535],\n",
    "        [ 78415,  81858, 150656, 193263,  69638],\n",
    "        [139361, 331509, 343164, 781380,  52269]]\n",
    "columns = ('Freeze', 'Wind', 'Flood', 'Quake', 'Hail')\n",
    "index = np.arange(len(columns)) + 0.3\n",
    "for row in range(3):\n",
    "    plt.bar(index, data[row])#, bar_width, bottom=y_offset, color=colors[row])\n",
    "    # y_offset = y_offset + data[row]\n",
    "# plt.bar([0, 1, 2, 3, 4], [data[0], data[1], data[2], data[3], data[4]])"
   ]
  },
  {
   "cell_type": "code",
   "execution_count": 41,
   "metadata": {},
   "outputs": [
    {
     "data": {
      "image/png": "[encoded data removed]",
      "text/plain": [
       "<Figure size 432x288 with 1 Axes>"
      ]
     },
     "metadata": {
      "needs_background": "light"
     },
     "output_type": "display_data"
    }
   ],
   "source": [
    "import numpy as np\n",
    "data = [[ 66386, 174296,  75131, 577908,  32015],\n",
    "        [ 58230, 381139,  78045,  99308, 160454],\n",
    "        [ 89135,  80552, 152558, 497981, 603535],\n",
    "        [ 78415,  81858, 150656, 193263,  69638],\n",
    "        [139361, 331509, 343164, 781380,  52269]]\n",
    "columns = ('Freeze', 'Wind', 'Flood', 'Quake', 'Hail')\n",
    "index = np.arange(len(columns)) + 0.3\n",
    "for row in range(4):\n",
    "    plt.bar(index, data[row])#, bar_width, bottom=y_offset, color=colors[row])\n",
    "    # y_offset = y_offset + data[row]\n",
    "# plt.bar([0, 1, 2, 3, 4], [data[0], data[1], data[2], data[3], data[4]])"
   ]
  },
  {
   "cell_type": "code",
   "execution_count": 42,
   "metadata": {},
   "outputs": [
    {
     "data": {
      "image/png": "[encoded data removed]",
      "text/plain": [
       "<Figure size 432x288 with 1 Axes>"
      ]
     },
     "metadata": {
      "needs_background": "light"
     },
     "output_type": "display_data"
    }
   ],
   "source": [
    "import numpy as np\n",
    "data = [[ 66386, 174296,  75131, 577908,  32015],\n",
    "        [ 58230, 381139,  78045,  99308, 160454],\n",
    "        [ 89135,  80552, 152558, 497981, 603535],\n",
    "        [ 78415,  81858, 150656, 193263,  69638],\n",
    "        [139361, 331509, 343164, 781380,  52269]]\n",
    "columns = ('Freeze', 'Wind', 'Flood', 'Quake', 'Hail')\n",
    "index = np.arange(len(columns)) + 0.3\n",
    "for row in range(5):\n",
    "    plt.bar(index, data[row])#, bar_width, bottom=y_offset, color=colors[row])\n",
    "    # y_offset = y_offset + data[row]\n",
    "# plt.bar([0, 1, 2, 3, 4], [data[0], data[1], data[2], data[3], data[4]])"
   ]
  },
  {
   "cell_type": "code",
   "execution_count": null,
   "metadata": {},
   "outputs": [],
   "source": []
  }
 ],
 "metadata": {
  "kernelspec": {
   "display_name": "Python 3",
   "language": "python",
   "name": "python3"
  },
  "language_info": {
   "codemirror_mode": {
    "name": "ipython",
    "version": 3
   },
   "file_extension": ".py",
   "mimetype": "text/x-python",
   "name": "python",
   "nbconvert_exporter": "python",
   "pygments_lexer": "ipython3",
   "version": "3.7.6"
  }
 },
 "nbformat": 4,
 "nbformat_minor": 4
}
